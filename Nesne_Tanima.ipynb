{
 "cells": [
  {
   "cell_type": "markdown",
   "metadata": {
    "id": "ju8PSxZhbNLI"
   },
   "source": [
    "# Kurulum"
   ]
  },
  {
   "cell_type": "code",
   "execution_count": 1,
   "metadata": {
    "colab": {
     "base_uri": "https://localhost:8080/"
    },
    "id": "aOoMr-9M-chU",
    "outputId": "5155b6a6-b902-4da4-836b-e47f4b2c6609"
   },
   "outputs": [
    {
     "name": "stdout",
     "output_type": "stream",
     "text": [
      "^C\n",
      "Note: you may need to restart the kernel to use updated packages.\n",
      "Requirement already satisfied: ultralytics in c:\\users\\windows\\anaconda3\\envs\\nesne_tanima\\lib\\site-packages (8.1.45)\n",
      "Requirement already satisfied: matplotlib>=3.3.0 in c:\\users\\windows\\anaconda3\\envs\\nesne_tanima\\lib\\site-packages (from ultralytics) (3.8.4)\n",
      "Requirement already satisfied: opencv-python>=4.6.0 in c:\\users\\windows\\anaconda3\\envs\\nesne_tanima\\lib\\site-packages (from ultralytics) (4.9.0.80)\n",
      "Requirement already satisfied: pillow>=7.1.2 in c:\\users\\windows\\anaconda3\\envs\\nesne_tanima\\lib\\site-packages (from ultralytics) (10.3.0)\n",
      "Requirement already satisfied: pyyaml>=5.3.1 in c:\\users\\windows\\anaconda3\\envs\\nesne_tanima\\lib\\site-packages (from ultralytics) (6.0.1)\n",
      "Requirement already satisfied: requests>=2.23.0 in c:\\users\\windows\\anaconda3\\envs\\nesne_tanima\\lib\\site-packages (from ultralytics) (2.31.0)\n",
      "Requirement already satisfied: scipy>=1.4.1 in c:\\users\\windows\\anaconda3\\envs\\nesne_tanima\\lib\\site-packages (from ultralytics) (1.13.0)\n",
      "Requirement already satisfied: torch>=1.8.0 in c:\\users\\windows\\anaconda3\\envs\\nesne_tanima\\lib\\site-packages (from ultralytics) (2.2.2)\n",
      "Requirement already satisfied: torchvision>=0.9.0 in c:\\users\\windows\\anaconda3\\envs\\nesne_tanima\\lib\\site-packages (from ultralytics) (0.17.2)\n",
      "Requirement already satisfied: tqdm>=4.64.0 in c:\\users\\windows\\anaconda3\\envs\\nesne_tanima\\lib\\site-packages (from ultralytics) (4.66.2)\n",
      "Requirement already satisfied: psutil in c:\\users\\windows\\anaconda3\\envs\\nesne_tanima\\lib\\site-packages (from ultralytics) (5.9.0)\n",
      "Requirement already satisfied: py-cpuinfo in c:\\users\\windows\\anaconda3\\envs\\nesne_tanima\\lib\\site-packages (from ultralytics) (9.0.0)\n",
      "Requirement already satisfied: thop>=0.1.1 in c:\\users\\windows\\anaconda3\\envs\\nesne_tanima\\lib\\site-packages (from ultralytics) (0.1.1.post2209072238)\n",
      "Requirement already satisfied: pandas>=1.1.4 in c:\\users\\windows\\anaconda3\\envs\\nesne_tanima\\lib\\site-packages (from ultralytics) (2.2.1)\n",
      "Requirement already satisfied: seaborn>=0.11.0 in c:\\users\\windows\\anaconda3\\envs\\nesne_tanima\\lib\\site-packages (from ultralytics) (0.13.2)\n",
      "Requirement already satisfied: contourpy>=1.0.1 in c:\\users\\windows\\anaconda3\\envs\\nesne_tanima\\lib\\site-packages (from matplotlib>=3.3.0->ultralytics) (1.2.1)\n",
      "Requirement already satisfied: cycler>=0.10 in c:\\users\\windows\\anaconda3\\envs\\nesne_tanima\\lib\\site-packages (from matplotlib>=3.3.0->ultralytics) (0.12.1)\n",
      "Requirement already satisfied: fonttools>=4.22.0 in c:\\users\\windows\\anaconda3\\envs\\nesne_tanima\\lib\\site-packages (from matplotlib>=3.3.0->ultralytics) (4.51.0)\n",
      "Requirement already satisfied: kiwisolver>=1.3.1 in c:\\users\\windows\\anaconda3\\envs\\nesne_tanima\\lib\\site-packages (from matplotlib>=3.3.0->ultralytics) (1.4.5)\n",
      "Requirement already satisfied: numpy>=1.21 in c:\\users\\windows\\anaconda3\\envs\\nesne_tanima\\lib\\site-packages (from matplotlib>=3.3.0->ultralytics) (1.26.4)\n",
      "Requirement already satisfied: packaging>=20.0 in c:\\users\\windows\\anaconda3\\envs\\nesne_tanima\\lib\\site-packages (from matplotlib>=3.3.0->ultralytics) (23.2)\n",
      "Requirement already satisfied: pyparsing>=2.3.1 in c:\\users\\windows\\anaconda3\\envs\\nesne_tanima\\lib\\site-packages (from matplotlib>=3.3.0->ultralytics) (3.1.2)\n",
      "Requirement already satisfied: python-dateutil>=2.7 in c:\\users\\windows\\anaconda3\\envs\\nesne_tanima\\lib\\site-packages (from matplotlib>=3.3.0->ultralytics) (2.8.2)\n",
      "Requirement already satisfied: pytz>=2020.1 in c:\\users\\windows\\anaconda3\\envs\\nesne_tanima\\lib\\site-packages (from pandas>=1.1.4->ultralytics) (2023.3.post1)\n",
      "Requirement already satisfied: tzdata>=2022.7 in c:\\users\\windows\\anaconda3\\envs\\nesne_tanima\\lib\\site-packages (from pandas>=1.1.4->ultralytics) (2024.1)\n",
      "Requirement already satisfied: charset-normalizer<4,>=2 in c:\\users\\windows\\anaconda3\\envs\\nesne_tanima\\lib\\site-packages (from requests>=2.23.0->ultralytics) (2.0.4)\n",
      "Requirement already satisfied: idna<4,>=2.5 in c:\\users\\windows\\anaconda3\\envs\\nesne_tanima\\lib\\site-packages (from requests>=2.23.0->ultralytics) (3.4)\n",
      "Requirement already satisfied: urllib3<3,>=1.21.1 in c:\\users\\windows\\anaconda3\\envs\\nesne_tanima\\lib\\site-packages (from requests>=2.23.0->ultralytics) (2.1.0)\n",
      "Requirement already satisfied: certifi>=2017.4.17 in c:\\users\\windows\\anaconda3\\envs\\nesne_tanima\\lib\\site-packages (from requests>=2.23.0->ultralytics) (2024.2.2)\n",
      "Requirement already satisfied: filelock in c:\\users\\windows\\anaconda3\\envs\\nesne_tanima\\lib\\site-packages (from torch>=1.8.0->ultralytics) (3.13.4)\n",
      "Requirement already satisfied: typing-extensions>=4.8.0 in c:\\users\\windows\\anaconda3\\envs\\nesne_tanima\\lib\\site-packages (from torch>=1.8.0->ultralytics) (4.9.0)\n",
      "Requirement already satisfied: sympy in c:\\users\\windows\\anaconda3\\envs\\nesne_tanima\\lib\\site-packages (from torch>=1.8.0->ultralytics) (1.12)\n",
      "Requirement already satisfied: networkx in c:\\users\\windows\\anaconda3\\envs\\nesne_tanima\\lib\\site-packages (from torch>=1.8.0->ultralytics) (3.3)\n",
      "Requirement already satisfied: jinja2 in c:\\users\\windows\\anaconda3\\envs\\nesne_tanima\\lib\\site-packages (from torch>=1.8.0->ultralytics) (3.1.3)\n",
      "Requirement already satisfied: fsspec in c:\\users\\windows\\anaconda3\\envs\\nesne_tanima\\lib\\site-packages (from torch>=1.8.0->ultralytics) (2024.3.1)\n",
      "Requirement already satisfied: colorama in c:\\users\\windows\\anaconda3\\envs\\nesne_tanima\\lib\\site-packages (from tqdm>=4.64.0->ultralytics) (0.4.6)\n",
      "Requirement already satisfied: six>=1.5 in c:\\users\\windows\\anaconda3\\envs\\nesne_tanima\\lib\\site-packages (from python-dateutil>=2.7->matplotlib>=3.3.0->ultralytics) (1.16.0)\n",
      "Requirement already satisfied: MarkupSafe>=2.0 in c:\\users\\windows\\anaconda3\\envs\\nesne_tanima\\lib\\site-packages (from jinja2->torch>=1.8.0->ultralytics) (2.1.3)\n",
      "Requirement already satisfied: mpmath>=0.19 in c:\\users\\windows\\anaconda3\\envs\\nesne_tanima\\lib\\site-packages (from sympy->torch>=1.8.0->ultralytics) (1.3.0)\n",
      "Requirement already satisfied: opencv-python in c:\\users\\windows\\anaconda3\\envs\\nesne_tanima\\lib\\site-packages (4.9.0.80)\n",
      "Requirement already satisfied: numpy>=1.21.2 in c:\\users\\windows\\anaconda3\\envs\\nesne_tanima\\lib\\site-packages (from opencv-python) (1.26.4)\n",
      "Note: you may need to restart the kernel to use updated packages.\n",
      "Requirement already satisfied: cvzone in c:\\users\\windows\\anaconda3\\envs\\nesne_tanima\\lib\\site-packages (1.6.1)\n",
      "Requirement already satisfied: opencv-python in c:\\users\\windows\\anaconda3\\envs\\nesne_tanima\\lib\\site-packages (from cvzone) (4.9.0.80)\n",
      "Requirement already satisfied: numpy in c:\\users\\windows\\anaconda3\\envs\\nesne_tanima\\lib\\site-packages (from cvzone) (1.26.4)\n",
      "Note: you may need to restart the kernel to use updated packages.\n",
      "Hata yoksa kuruldu demektir\n"
     ]
    }
   ],
   "source": [
    "%pip install ultralytics\n",
    "%pip install opencv-python\n",
    "%pip install cvzone\n",
    "%pip install yolov5\n",
    "print(\"Hata yoksa kuruldu demektir\")"
   ]
  },
  {
   "cell_type": "markdown",
   "metadata": {
    "id": "hXmSYO0TbhS2"
   },
   "source": [
    "# Kütüphaneleri Koda Dahil Etme"
   ]
  },
  {
   "cell_type": "code",
   "execution_count": 1,
   "metadata": {
    "id": "UgyyXfzubnmp"
   },
   "outputs": [],
   "source": [
    "import ultralytics\n",
    "from ultralytics import YOLO\n",
    "import cv2\n",
    "import cvzone\n",
    "import math\n",
    "import numpy\n",
    "from yolov5 import YOLOv5"
   ]
  },
  {
   "cell_type": "markdown",
   "metadata": {},
   "source": [
    "# Model işlemleri"
   ]
  },
  {
   "cell_type": "markdown",
   "metadata": {},
   "source": [
    "# Ana Kod"
   ]
  },
  {
   "cell_type": "code",
   "execution_count": 2,
   "metadata": {
    "colab": {
     "base_uri": "https://localhost:8080/",
     "height": 1000
    },
    "id": "4PkzL0LH_3YC",
    "outputId": "ba0ac469-871c-4c08-9913-ef2085193e31"
   },
   "outputs": [
    {
     "name": "stderr",
     "output_type": "stream",
     "text": [
      "YOLOv5  2024-4-12 Python-3.11.8 torch-2.2.2+cpu CPU\n",
      "\n"
     ]
    },
    {
     "name": "stderr",
     "output_type": "stream",
     "text": [
      "c:\\Users\\Windows\\anaconda3\\envs\\nesne_tanima\\Lib\\site-packages\\tqdm\\auto.py:21: TqdmWarning: IProgress not found. Please update jupyter and ipywidgets. See https://ipywidgets.readthedocs.io/en/stable/user_install.html\n",
      "  from .autonotebook import tqdm as notebook_tqdm\n",
      "Fusing layers... \n",
      "YOLOv5s summary: 270 layers, 7235389 parameters, 0 gradients, 16.6 GFLOPs\n",
      "Adding AutoShape... \n"
     ]
    }
   ],
   "source": [
    "from yolov5 import YOLOv5\n",
    "\n",
    "# YOLO model path\n",
    "model = YOLOv5('yolov5/weights/yolov5s.pt')\n",
    "\n",
    "classNames = [\"adam\", \"bisiklet\", \"araba\", \"motosiklet\", \"ucak\", \"otobüs\", \"tren\", \"kamyon\", \"bot\", \"trafik isigi\", \"yangin muslugu\",\n",
    "                \"dur\", \"parkmetre\",\"bank\", \"kus\",\"kedi\",\"kopek\",\"at\",\"koyun\",\"inek\",\"fil\",\"ayi\",\"zebra\",\"zurafa\",\n",
    "                \"sirt canta\", \"semsiye\", \"el canta\", \"krafat\", \"bavul\", \"bumerang\", \"kayak\", \"kayak tahtasi\", \"top\", \"ucurtma\", \"beyzbol sopasi\",\n",
    "                \"beyzbol eldiveni\", \"kaykay\", \"sorf tahtasi\", \"tenis raketi\", \"sise\", \"haram\", \"fincan\", \"catal\", \"bicak\", \"kasik\", \"kase\", \"muz\",\n",
    "                \"elma\", \"sandvic\", \"portakal\", \"brokoli\", \"havuc\", \"sosisli sandvic\", \"pizza\", \"donut\", \"kek\", \"sandalye\", \"kanepe\", \"saksi bitki\", \"yatak\",\n",
    "                \"masa\", \"tuvalet\", \"tv ekrani\", \"laptop\", \"fare\", \"uzaktan kumanda\", \"klavye\", \"cep telefonu\", \"mikrodalga\", \"firin\", \"ekmek kizartma makinesi\",\n",
    "                \"lavabo\", \"buzdolabi\", \"kitap\", \"saat\", \"vazo\", \"makas\", \"oyuncak ayi\", \"sac kurutma makinesi\", \"dis fircasi\"]\n",
    "\n",
    "# Kamera\n",
    "cap = cv2.VideoCapture(0)\n",
    "cap.set(cv2.CAP_PROP_FRAME_WIDTH, 1280)\n",
    "cap.set(cv2.CAP_PROP_FRAME_HEIGHT, 720)\n",
    "\n",
    "while True:\n",
    "    success, img = cap.read()\n",
    "    if not success:\n",
    "        print(\"Kare yakalanamadı!\")\n",
    "        break\n",
    "        \n",
    "    # Algıla\n",
    "    results = model.predict(img)\n",
    "\n",
    "    # Sonuçları işle\n",
    "    for result in results.pred[0]:\n",
    "        x1, y1, x2, y2, conf, cls = result\n",
    "        x1, y1, x2, y2 = int(x1), int(y1), int(x2), int(y2)\n",
    "        conf, cls = float(conf), int(cls)\n",
    "        name = classNames[int(cls)]\n",
    "        cv2.rectangle(img, (x1, y1), (x2, y2), (0, 255, 0), 2)\n",
    "        cv2.putText(img, f'{name}, %{math.ceil(conf*100)}', (x1, y1 - 10), cv2.FONT_HERSHEY_SIMPLEX, 0.9, (36, 255, 12), 2)\n",
    "\n",
    "    cv2.imshow('Detected Objects', img)\n",
    "    \n",
    "    key = cv2.waitKey(1) & 0xFF\n",
    "    if key == ord('q'):\n",
    "        break\n",
    "        \n",
    "cap.release()\n",
    "cv2.destroyAllWindows()\n"
   ]
  },
  {
   "cell_type": "markdown",
   "metadata": {
    "id": "m7GVdRofEg1q"
   },
   "source": [
    "**Bu şekilde kodumuzu test ettik**"
   ]
  },
  {
   "cell_type": "markdown",
   "metadata": {},
   "source": [
    "# Kod huysuzlanırsa (Kamera Kapanmazsa) bunu çalıştırın!!!"
   ]
  },
  {
   "cell_type": "code",
   "execution_count": 28,
   "metadata": {},
   "outputs": [],
   "source": [
    "cap.release()"
   ]
  },
  {
   "cell_type": "markdown",
   "metadata": {
    "id": "r8X0FvwfbzYW"
   },
   "source": [
    "# Kaynak\n",
    "[Object Detection with YOLO and OpenCV: A Practical Guide](https://medium.com/@tejasdalvi927/object-detection-with-yolo-and-opencv-a-practical-guide-cf7773481d11)"
   ]
  }
 ],
 "metadata": {
  "accelerator": "GPU",
  "colab": {
   "gpuType": "T4",
   "provenance": []
  },
  "kernelspec": {
   "display_name": "Python 3 (ipykernel)",
   "language": "python",
   "name": "python3"
  },
  "language_info": {
   "codemirror_mode": {
    "name": "ipython",
    "version": 3
   },
   "file_extension": ".py",
   "mimetype": "text/x-python",
   "name": "python",
   "nbconvert_exporter": "python",
   "pygments_lexer": "ipython3",
   "version": "3.11.8"
  }
 },
 "nbformat": 4,
 "nbformat_minor": 4
}
